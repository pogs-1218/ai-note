{
 "cells": [
  {
   "cell_type": "code",
   "execution_count": 1,
   "metadata": {},
   "outputs": [],
   "source": [
    "import urllib.request\n",
    "import zipfile\n",
    "import os\n",
    "import tensorflow as tf\n",
    "from tensorflow.keras.preprocessing.image import ImageDataGenerator\n",
    "\n"
   ]
  },
  {
   "cell_type": "code",
   "execution_count": 3,
   "metadata": {},
   "outputs": [],
   "source": [
    "url = \"https://storage.googleapis.com/download.tensorflow.org/data/horse-or-human.zip\"\n",
    "validation_url = 'https://storage.googleapis.com/download.tensorflow.org/data/validation-horse-or-human.zip'\n",
    "file_name = 'horse-or-human.zip'\n",
    "train_dir = 'horse-or-human/training'\n",
    "\n",
    "if os.path.exists(file_name) == False:\n",
    "  urllib.request.urlretrieve(url, file_name)\n",
    "  zip_ref = zipfile.ZipFile(file_name, 'r')\n",
    "  zip_ref.extractall(train_dir)\n",
    "  zip_ref.close()"
   ]
  },
  {
   "cell_type": "code",
   "execution_count": 4,
   "metadata": {},
   "outputs": [
    {
     "name": "stdout",
     "output_type": "stream",
     "text": [
      "Found 1027 images belonging to 2 classes.\n"
     ]
    }
   ],
   "source": [
    "# Set up a image data generator\n",
    "train_datagen = ImageDataGenerator(rescale=1/255)\n",
    "train_generator = train_datagen.flow_from_directory(train_dir, target_size=(300,300), class_mode='binary')"
   ]
  },
  {
   "cell_type": "code",
   "execution_count": 5,
   "metadata": {},
   "outputs": [
    {
     "name": "stdout",
     "output_type": "stream",
     "text": [
      "Model: \"sequential\"\n",
      "_________________________________________________________________\n",
      " Layer (type)                Output Shape              Param #   \n",
      "=================================================================\n",
      " conv2d (Conv2D)             (None, 298, 298, 16)      448       \n",
      "                                                                 \n",
      " max_pooling2d (MaxPooling2  (None, 149, 149, 16)      0         \n",
      " D)                                                              \n",
      "                                                                 \n",
      " conv2d_1 (Conv2D)           (None, 147, 147, 32)      4640      \n",
      "                                                                 \n",
      " max_pooling2d_1 (MaxPoolin  (None, 73, 73, 32)        0         \n",
      " g2D)                                                            \n",
      "                                                                 \n",
      " conv2d_2 (Conv2D)           (None, 71, 71, 64)        18496     \n",
      "                                                                 \n",
      " max_pooling2d_2 (MaxPoolin  (None, 35, 35, 64)        0         \n",
      " g2D)                                                            \n",
      "                                                                 \n",
      " conv2d_3 (Conv2D)           (None, 33, 33, 64)        36928     \n",
      "                                                                 \n",
      " max_pooling2d_3 (MaxPoolin  (None, 16, 16, 64)        0         \n",
      " g2D)                                                            \n",
      "                                                                 \n",
      " conv2d_4 (Conv2D)           (None, 14, 14, 64)        36928     \n",
      "                                                                 \n",
      " max_pooling2d_4 (MaxPoolin  (None, 7, 7, 64)          0         \n",
      " g2D)                                                            \n",
      "                                                                 \n",
      " flatten (Flatten)           (None, 3136)              0         \n",
      "                                                                 \n",
      " dense (Dense)               (None, 512)               1606144   \n",
      "                                                                 \n",
      " dense_1 (Dense)             (None, 1)                 513       \n",
      "                                                                 \n",
      "=================================================================\n",
      "Total params: 1704097 (6.50 MB)\n",
      "Trainable params: 1704097 (6.50 MB)\n",
      "Non-trainable params: 0 (0.00 Byte)\n",
      "_________________________________________________________________\n"
     ]
    }
   ],
   "source": [
    "# Building a model\n",
    "model = tf.keras.models.Sequential([\n",
    "  tf.keras.layers.Conv2D(16, (3, 3), activation='relu', input_shape=(300, 300, 3)),\n",
    "  tf.keras.layers.MaxPooling2D(2, 2),\n",
    "  tf.keras.layers.Conv2D(32, (3, 3), activation='relu'),\n",
    "  tf.keras.layers.MaxPooling2D(2, 2),\n",
    "  tf.keras.layers.Conv2D(64, (3, 3), activation='relu'),\n",
    "  tf.keras.layers.MaxPooling2D(2, 2),\n",
    "  tf.keras.layers.Conv2D(64, (3, 3), activation='relu'),\n",
    "  tf.keras.layers.MaxPooling2D(2, 2),\n",
    "  tf.keras.layers.Conv2D(64, (3, 3), activation='relu'),\n",
    "  tf.keras.layers.MaxPooling2D(2, 2),\n",
    "  tf.keras.layers.Flatten(),\n",
    "  tf.keras.layers.Dense(512, activation='relu'),\n",
    "  tf.keras.layers.Dense(1, activation='sigmoid')\n",
    "])\n",
    "\n",
    "model.summary()"
   ]
  },
  {
   "cell_type": "code",
   "execution_count": 6,
   "metadata": {},
   "outputs": [],
   "source": [
    "model.compile(loss='binary_crossentropy',\n",
    "              optimizer=tf.keras.optimizers.legacy.RMSprop(learning_rate=0.001),\n",
    "              metrics=['accuracy'])"
   ]
  },
  {
   "cell_type": "code",
   "execution_count": 7,
   "metadata": {},
   "outputs": [
    {
     "name": "stdout",
     "output_type": "stream",
     "text": [
      "Epoch 1/15\n",
      "33/33 [==============================] - 12s 335ms/step - loss: 0.6438 - accuracy: 0.6514\n",
      "Epoch 2/15\n",
      "33/33 [==============================] - 11s 332ms/step - loss: 0.3350 - accuracy: 0.8909\n",
      "Epoch 3/15\n",
      "33/33 [==============================] - 11s 342ms/step - loss: 0.1288 - accuracy: 0.9494\n",
      "Epoch 4/15\n",
      "33/33 [==============================] - 11s 324ms/step - loss: 0.3174 - accuracy: 0.9367\n",
      "Epoch 5/15\n",
      "33/33 [==============================] - 11s 314ms/step - loss: 0.0839 - accuracy: 0.9747\n",
      "Epoch 6/15\n",
      "33/33 [==============================] - 11s 321ms/step - loss: 0.0794 - accuracy: 0.9737\n",
      "Epoch 7/15\n",
      "33/33 [==============================] - 11s 322ms/step - loss: 0.0308 - accuracy: 0.9883\n",
      "Epoch 8/15\n",
      "33/33 [==============================] - 11s 321ms/step - loss: 0.4896 - accuracy: 0.9708\n",
      "Epoch 9/15\n",
      "33/33 [==============================] - 11s 316ms/step - loss: 0.0894 - accuracy: 0.9864\n",
      "Epoch 10/15\n",
      "33/33 [==============================] - 11s 328ms/step - loss: 0.0021 - accuracy: 1.0000\n",
      "Epoch 11/15\n",
      "33/33 [==============================] - 11s 318ms/step - loss: 0.1129 - accuracy: 0.9825\n",
      "Epoch 12/15\n",
      "33/33 [==============================] - 11s 324ms/step - loss: 0.0974 - accuracy: 0.9805\n",
      "Epoch 13/15\n",
      "33/33 [==============================] - 11s 319ms/step - loss: 0.0163 - accuracy: 0.9961\n",
      "Epoch 14/15\n",
      "33/33 [==============================] - 11s 321ms/step - loss: 1.9094e-04 - accuracy: 1.0000\n",
      "Epoch 15/15\n",
      "33/33 [==============================] - 11s 321ms/step - loss: 1.9174e-05 - accuracy: 1.0000\n"
     ]
    }
   ],
   "source": [
    "history = model.fit(train_generator, epochs=15)"
   ]
  }
 ],
 "metadata": {
  "kernelspec": {
   "display_name": "Python 3",
   "language": "python",
   "name": "python3"
  },
  "language_info": {
   "codemirror_mode": {
    "name": "ipython",
    "version": 3
   },
   "file_extension": ".py",
   "mimetype": "text/x-python",
   "name": "python",
   "nbconvert_exporter": "python",
   "pygments_lexer": "ipython3",
   "version": "3.10.11"
  },
  "orig_nbformat": 4
 },
 "nbformat": 4,
 "nbformat_minor": 2
}
