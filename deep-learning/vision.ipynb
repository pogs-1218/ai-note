{
 "cells": [
  {
   "cell_type": "code",
   "execution_count": 12,
   "metadata": {},
   "outputs": [],
   "source": [
    "import numpy as np\n",
    "import tensorflow as tf\n",
    "\n",
    "model = tf.keras.Sequential([\n",
    "  tf.keras.layers.Flatten(input_shape=(28, 28)),\n",
    "  tf.keras.layers.Dense(128, activation=tf.nn.relu),\n",
    "  tf.keras.layers.Dense(10, activation=tf.nn.softmax)\n",
    "])"
   ]
  },
  {
   "cell_type": "markdown",
   "metadata": {},
   "source": [
    "Flatten is not a layer of neurons, but the input layer.<br>\n",
    "Convert 2-D array to 1-D array.<br>\n",
    "\n",
    "Hidden Layer!<br>\n",
    "There is fixed rule for the number of neurons to use.\n",
    "Overfitting is likely to occur with too many neurons.\n",
    "\n"
   ]
  },
  {
   "cell_type": "code",
   "execution_count": 13,
   "metadata": {},
   "outputs": [
    {
     "name": "stdout",
     "output_type": "stream",
     "text": [
      "Epoch 1/5\n",
      "1875/1875 [==============================] - 1s 600us/step - loss: 0.4931 - accuracy: 0.8270\n",
      "Epoch 2/5\n",
      "1875/1875 [==============================] - 1s 606us/step - loss: 0.3768 - accuracy: 0.8650\n",
      "Epoch 3/5\n",
      "1875/1875 [==============================] - 1s 598us/step - loss: 0.3379 - accuracy: 0.8771\n",
      "Epoch 4/5\n",
      "1875/1875 [==============================] - 1s 591us/step - loss: 0.3156 - accuracy: 0.8839\n",
      "Epoch 5/5\n",
      "1875/1875 [==============================] - 1s 595us/step - loss: 0.2958 - accuracy: 0.8906\n",
      "Evaluate for test data\n",
      "313/313 [==============================] - 0s 382us/step - loss: 0.3423 - accuracy: 0.8767\n",
      "Evaluate for train data\n",
      "1875/1875 [==============================] - 1s 358us/step - loss: 0.2663 - accuracy: 0.9014\n"
     ]
    },
    {
     "data": {
      "text/plain": [
       "[0.266265869140625, 0.9014166593551636]"
      ]
     },
     "execution_count": 13,
     "metadata": {},
     "output_type": "execute_result"
    }
   ],
   "source": [
    "data = tf.keras.datasets.fashion_mnist\n",
    "(training_images, training_labels), (test_images, test_labels) = data.load_data()\n",
    "\n",
    "training_images = training_images / 255.0\n",
    "test_images = test_images / 255.0\n",
    "\n",
    "model.compile(optimizer='adam',\n",
    "              loss='sparse_categorical_crossentropy',\n",
    "              metrics=['accuracy'])\n",
    "model.fit(training_images, training_labels, epochs=5)\n",
    "print('Evaluate for test data')\n",
    "model.evaluate(test_images, test_labels)\n",
    "print('Evaluate for train data')\n",
    "model.evaluate(training_images, training_labels)"
   ]
  },
  {
   "cell_type": "code",
   "execution_count": 14,
   "metadata": {},
   "outputs": [
    {
     "name": "stdout",
     "output_type": "stream",
     "text": [
      "Epoch 1/50\n",
      "1875/1875 [==============================] - 1s 610us/step - loss: 0.2802 - accuracy: 0.8953\n",
      "Epoch 2/50\n",
      "1875/1875 [==============================] - 1s 583us/step - loss: 0.2685 - accuracy: 0.9006\n",
      "Epoch 3/50\n",
      "1875/1875 [==============================] - 1s 581us/step - loss: 0.2570 - accuracy: 0.9055\n",
      "Epoch 4/50\n",
      "1875/1875 [==============================] - 1s 589us/step - loss: 0.2451 - accuracy: 0.9089\n",
      "Epoch 5/50\n",
      "1875/1875 [==============================] - 1s 581us/step - loss: 0.2381 - accuracy: 0.9101\n",
      "Epoch 6/50\n",
      "1875/1875 [==============================] - 1s 585us/step - loss: 0.2277 - accuracy: 0.9151\n",
      "Epoch 7/50\n",
      "1875/1875 [==============================] - 1s 621us/step - loss: 0.2228 - accuracy: 0.9158\n",
      "Epoch 8/50\n",
      "1875/1875 [==============================] - 1s 598us/step - loss: 0.2152 - accuracy: 0.9185\n",
      "Epoch 9/50\n",
      "1875/1875 [==============================] - 1s 599us/step - loss: 0.2090 - accuracy: 0.9201\n",
      "Epoch 10/50\n",
      "1875/1875 [==============================] - 1s 620us/step - loss: 0.2031 - accuracy: 0.9239\n",
      "Epoch 11/50\n",
      "1875/1875 [==============================] - 1s 591us/step - loss: 0.1961 - accuracy: 0.9271\n",
      "Epoch 12/50\n",
      "1875/1875 [==============================] - 1s 587us/step - loss: 0.1894 - accuracy: 0.9291\n",
      "Epoch 13/50\n",
      "1875/1875 [==============================] - 1s 614us/step - loss: 0.1870 - accuracy: 0.9292\n",
      "Epoch 14/50\n",
      "1875/1875 [==============================] - 1s 632us/step - loss: 0.1811 - accuracy: 0.9311\n",
      "Epoch 15/50\n",
      "1875/1875 [==============================] - 1s 610us/step - loss: 0.1737 - accuracy: 0.9353\n",
      "Epoch 16/50\n",
      "1875/1875 [==============================] - 1s 601us/step - loss: 0.1731 - accuracy: 0.9351\n",
      "Epoch 17/50\n",
      "1875/1875 [==============================] - 1s 589us/step - loss: 0.1674 - accuracy: 0.9374\n",
      "Epoch 18/50\n",
      "1875/1875 [==============================] - 1s 609us/step - loss: 0.1660 - accuracy: 0.9378\n",
      "Epoch 19/50\n",
      "1875/1875 [==============================] - 1s 595us/step - loss: 0.1592 - accuracy: 0.9405\n",
      "Epoch 20/50\n",
      "1875/1875 [==============================] - 1s 596us/step - loss: 0.1573 - accuracy: 0.9405\n",
      "Epoch 21/50\n",
      "1875/1875 [==============================] - 1s 623us/step - loss: 0.1537 - accuracy: 0.9423\n",
      "Epoch 22/50\n",
      "1875/1875 [==============================] - 1s 596us/step - loss: 0.1503 - accuracy: 0.9432\n",
      "Epoch 23/50\n",
      "1875/1875 [==============================] - 1s 596us/step - loss: 0.1475 - accuracy: 0.9446\n",
      "Epoch 24/50\n",
      "1875/1875 [==============================] - 1s 614us/step - loss: 0.1438 - accuracy: 0.9457\n",
      "Epoch 25/50\n",
      "1875/1875 [==============================] - 1s 604us/step - loss: 0.1402 - accuracy: 0.9477\n",
      "Epoch 26/50\n",
      "1875/1875 [==============================] - 1s 603us/step - loss: 0.1372 - accuracy: 0.9490\n",
      "Epoch 27/50\n",
      "1875/1875 [==============================] - 1s 608us/step - loss: 0.1367 - accuracy: 0.9490\n",
      "Epoch 28/50\n",
      "1805/1875 [===========================>..] - ETA: 0s - loss: 0.1329 - accuracy: 0.9504\n",
      "Reached 95% accuracy so cancelling trainig!\n",
      "1875/1875 [==============================] - 1s 585us/step - loss: 0.1327 - accuracy: 0.9505\n"
     ]
    },
    {
     "data": {
      "text/plain": [
       "<keras.src.callbacks.History at 0x29ded7d30>"
      ]
     },
     "execution_count": 14,
     "metadata": {},
     "output_type": "execute_result"
    }
   ],
   "source": [
    "class MyCallback(tf.keras.callbacks.Callback):\n",
    "  def on_epoch_end(self, epoch, logs=None):\n",
    "    if logs.get('accuracy') > 0.95:\n",
    "      print(\"\\nReached 95% accuracy so cancelling trainig!\")\n",
    "      self.model.stop_training = True\n",
    "\n",
    "callbacks = MyCallback()\n",
    "data = tf.keras.datasets.fashion_mnist\n",
    "(training_images, training_labels), (test_images, test_labels) = data.load_data()\n",
    "\n",
    "training_images = training_images / 255.0\n",
    "test_images = test_images / 255.0\n",
    "\n",
    "model.compile(optimizer='adam',\n",
    "              loss='sparse_categorical_crossentropy',\n",
    "              metrics=['accuracy'])\n",
    "model.fit(training_images, training_labels, epochs=50, callbacks=[callbacks])"
   ]
  },
  {
   "cell_type": "code",
   "execution_count": 15,
   "metadata": {},
   "outputs": [
    {
     "name": "stdout",
     "output_type": "stream",
     "text": [
      "313/313 [==============================] - 0s 390us/step\n",
      "[5.8841875e-14 4.4160619e-19 1.3071363e-16 3.0834004e-20 2.7974127e-17\n",
      " 4.8887476e-09 2.4547850e-14 5.1576215e-05 1.9110466e-12 9.9994838e-01]\n",
      "9\n"
     ]
    }
   ],
   "source": [
    "classfications = model.predict(test_images)\n",
    "print(classfications[0])\n",
    "print(test_labels[0])"
   ]
  },
  {
   "cell_type": "markdown",
   "metadata": {},
   "source": [
    "# Normalizing\n",
    "\n",
    "```python\n",
    "training_images = training_images / 255.**0**\n",
    "test_images = test_images / 255.0\n",
    "```\n",
    "The reason why the array is divided by 255.0?\n",
    "\n",
    "# Isseus\n",
    "load_data on MacOS<br>\n",
    "link: https://github.com/tensorflow/tensorflow/issues/33285<br>\n",
    "/Applications/Python\\ 3.10/Install\\ Certificates.command"
   ]
  },
  {
   "cell_type": "code",
   "execution_count": 4,
   "metadata": {},
   "outputs": [
    {
     "data": {
      "text/plain": [
       "array([1.        , 0.        , 0.25490196, 0.75294118])"
      ]
     },
     "execution_count": 4,
     "metadata": {},
     "output_type": "execute_result"
    }
   ],
   "source": [
    "import numpy as np\n",
    "\n",
    "a = np.array([255.0, 0.0, 65.0, 192.0])\n",
    "a / 255.0"
   ]
  }
 ],
 "metadata": {
  "kernelspec": {
   "display_name": "Python 3",
   "language": "python",
   "name": "python3"
  },
  "language_info": {
   "codemirror_mode": {
    "name": "ipython",
    "version": 3
   },
   "file_extension": ".py",
   "mimetype": "text/x-python",
   "name": "python",
   "nbconvert_exporter": "python",
   "pygments_lexer": "ipython3",
   "version": "3.10.11"
  },
  "orig_nbformat": 4
 },
 "nbformat": 4,
 "nbformat_minor": 2
}
